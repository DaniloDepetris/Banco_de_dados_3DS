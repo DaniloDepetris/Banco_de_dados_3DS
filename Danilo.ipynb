{
  "nbformat": 4,
  "nbformat_minor": 0,
  "metadata": {
    "colab": {
      "provenance": [],
      "authorship_tag": "ABX9TyNIo1QICEo471qC0hAldwxq",
      "include_colab_link": true
    },
    "kernelspec": {
      "name": "python3",
      "display_name": "Python 3"
    },
    "language_info": {
      "name": "python"
    }
  },
  "cells": [
    {
      "cell_type": "markdown",
      "metadata": {
        "id": "view-in-github",
        "colab_type": "text"
      },
      "source": [
        "<a href=\"https://colab.research.google.com/github/DaniloDepetris/Banco_de_dados_3DS/blob/main/Danilo.ipynb\" target=\"_parent\"><img src=\"https://colab.research.google.com/assets/colab-badge.svg\" alt=\"Open In Colab\"/></a>"
      ]
    },
    {
      "cell_type": "code",
      "execution_count": 5,
      "metadata": {
        "colab": {
          "base_uri": "https://localhost:8080/"
        },
        "id": "Hwa-s_tqCuk0",
        "outputId": "b1b21f11-489f-4ce8-c29b-c9f34ad802a2"
      },
      "outputs": [
        {
          "output_type": "stream",
          "name": "stdout",
          "text": [
            "Executado com sucesso!\n"
          ]
        }
      ],
      "source": [
        "# Importa a biblioteca para trabalhar com bancos de dados SQLite.\n",
        "import sqlite3\n",
        "\n",
        "\n",
        "# Conecta ao banco de dados (ou criar se não existir)\n",
        "conn = sqlite3.connect('clientes.db')\n",
        "\n",
        "\n",
        "# O método .cursor() cria um objeto chamado \"cursor\".\n",
        "# Esse objeto é sua interface para enviar comandos SQL ao BD.\n",
        "cursor = conn.cursor()\n",
        "\n",
        "\n",
        "# Cria a tabela de clientes\n",
        "cursor.execute('''\n",
        "CREATE TABLE IF NOT EXISTS clientes (\n",
        "   id INTEGER PRIMARY KEY AUTOINCREMENT,\n",
        "   nome TEXT NOT NULL,\n",
        "   email TEXT NOT NULL UNIQUE\n",
        ")\n",
        "''')\n",
        "\n",
        "\n",
        "# Confirma as mudanças\n",
        "conn.commit()\n",
        "\n",
        "\n",
        "# Fecha a conexão\n",
        "conn.close()\n",
        "\n",
        "\n",
        "# Confirma execução do bloco de código\n",
        "print(\"Executado com sucesso!\")\n",
        "\n",
        "\n",
        "\n"
      ]
    },
    {
      "cell_type": "code",
      "source": [
        "# Importa biblioteca para acessar funcionalidades do sistema operacional,\n",
        "# por exemplo, a manipulação de arquivos.\n",
        "import os\n",
        "\n",
        "# Verificar se o arquivo do banco de dados foi criado\n",
        "if os.path.exists('clientes.db'):\n",
        "    print(\"Banco de dados criado com sucesso!\")\n",
        "else:\n",
        "    print(\"Erro ao criar o banco de dados.\")\n"
      ],
      "metadata": {
        "colab": {
          "base_uri": "https://localhost:8080/"
        },
        "id": "eY6QkRdUFA7m",
        "outputId": "c0d64035-2ae0-4d84-c613-1eb3a025db2a"
      },
      "execution_count": 6,
      "outputs": [
        {
          "output_type": "stream",
          "name": "stdout",
          "text": [
            "Banco de dados criado com sucesso!\n"
          ]
        }
      ]
    },
    {
      "cell_type": "code",
      "source": [
        "import sqlite3  # Importa o módulo sqlite3 para trabalhar com o banco de dados\n",
        "\n",
        "# Define uma função que adiciona cliente ao BD\n",
        "# Recebe 'nome' e 'email' como parâmetros.\n",
        "def adicionar_cliente(nome, email):\n",
        "    try:\n",
        "        # Conecta ao BD ou cria um novo se não existir.\n",
        "        conn = sqlite3.connect('clientes.db')\n",
        "\n",
        "        # Cria o \"cursor\" para executar comandos SQL.\n",
        "        cursor = conn.cursor()\n",
        "\n",
        "        # Cria a tabela 'clientes' se ela não existir\n",
        "        cursor.execute('''\n",
        "        CREATE TABLE IF NOT EXISTS clientes (\n",
        "            id INTEGER PRIMARY KEY AUTOINCREMENT,\n",
        "            nome TEXT NOT NULL,\n",
        "            email TEXT NOT NULL\n",
        "        )\n",
        "        ''')\n",
        "\n",
        "        # Executa comando SQL para inserir dados na tabela.\n",
        "        cursor.execute('''\n",
        "        INSERT INTO clientes (nome, email) VALUES (?, ?)\n",
        "        ''', (nome, email))\n",
        "\n",
        "        # Salva as mudanças feitas no BD.\n",
        "        conn.commit()\n",
        "\n",
        "        print(\"Banco de dados atualizado com sucesso!\")  # Mensagem indicando sucesso na inserção\n",
        "\n",
        "    except sqlite3.DatabaseError as e:\n",
        "        # Caso haja algum erro no banco de dados, imprime a mensagem de erro.\n",
        "        print(f\"Erro ao interagir com o banco de dados: {e}\")\n",
        "    finally:\n",
        "        # Fecha a conexão para liberar os recursos.\n",
        "        conn.close()\n",
        "\n",
        "# Exemplo de uso\n",
        "# Chama a função para adicionar um novo cliente com nome e email específicos.\n",
        "adicionar_cliente('Nikolas', 'nikolas@example.com')\n",
        "\n",
        "# Confirma a execução do bloco de código\n",
        "# Imprime mensagem ao usuário sobre conclusão da operação.\n",
        "print(\"Executado com sucesso!\")\n"
      ],
      "metadata": {
        "colab": {
          "base_uri": "https://localhost:8080/"
        },
        "id": "VPRMmN-QFswe",
        "outputId": "73ff141b-6e72-4226-dd14-517a162eeccf"
      },
      "execution_count": 7,
      "outputs": [
        {
          "output_type": "stream",
          "name": "stdout",
          "text": [
            "Banco de dados atualizado com sucesso!\n",
            "Executado com sucesso!\n"
          ]
        }
      ]
    },
    {
      "cell_type": "code",
      "source": [
        "# Define função para buscar e retornar todos os clientes do BD.\n",
        "def listar_clientes():\n",
        "    # Conecta ao BD 'clientes.db'.\n",
        "    conn = sqlite3.connect('clientes.db')\n",
        "\n",
        "    # Cria um cursor para executar comandos SQL.\n",
        "    cursor = conn.cursor()\n",
        "\n",
        "    # Executa comando SQL para selecionar todas as linhas da tabela 'clientes'.\n",
        "    cursor.execute('SELECT * FROM clientes')\n",
        "\n",
        "    # Busca todos os resultados da consulta e os armazena na variável 'clientes'.\n",
        "    clientes = cursor.fetchall()\n",
        "\n",
        "    # Fecha a conexão com o BD.\n",
        "    conn.close()\n",
        "\n",
        "    # Retorna a lista de clientes.\n",
        "    return clientes\n",
        "\n",
        "# Exemplo de uso\n",
        "# Chama a função para obter a lista de clientes.\n",
        "clientes = listar_clientes()\n",
        "\n",
        "# Percorre a lista e imprime cada cliente.\n",
        "for cliente in clientes:\n",
        "    print(cliente)\n"
      ],
      "metadata": {
        "colab": {
          "base_uri": "https://localhost:8080/"
        },
        "id": "ayFjxpCKGcU1",
        "outputId": "c0cac4f3-b456-45b6-a2c8-418f01ebc5b2"
      },
      "execution_count": 8,
      "outputs": [
        {
          "output_type": "stream",
          "name": "stdout",
          "text": [
            "(1, 'Nikolas', 'nikolas@example.com')\n"
          ]
        }
      ]
    },
    {
      "cell_type": "code",
      "source": [
        "# Define função para \"limpar\" formulário, resetando os campos.\n",
        "# A função não recebe parâmetros, só retorna novo dicionário.\n",
        "def limpar_formulario():\n",
        "    # Retorna dicionário com as chaves 'nome' e 'email' e valores\n",
        "    return {'nome': '', 'email': ''}\n",
        "\n",
        "# Exemplo de uso\n",
        "# Cria dicionário que simula formulário preenchido.\n",
        "formulario = {'nome': 'João', 'email': 'joao@example.com'}\n",
        "print(\"Antes de limpar:\", formulario)\n",
        "\n",
        "# Chama função para obter o formulário limpo e atribui o resultado\n",
        "# à variável 'formulario', sobrescrevendo o valor anterior com campos vazios.\n",
        "formulario = limpar_formulario()\n",
        "print(\"Depois de limpar:\", formulario)\n",
        "\n"
      ],
      "metadata": {
        "colab": {
          "base_uri": "https://localhost:8080/"
        },
        "id": "5MtcN06yGtfN",
        "outputId": "39de1916-0b41-459b-b6ef-ee7579c5c52f"
      },
      "execution_count": 9,
      "outputs": [
        {
          "output_type": "stream",
          "name": "stdout",
          "text": [
            "Antes de limpar: {'nome': 'João', 'email': 'joao@example.com'}\n",
            "Depois de limpar: {'nome': '', 'email': ''}\n"
          ]
        }
      ]
    }
  ]
}